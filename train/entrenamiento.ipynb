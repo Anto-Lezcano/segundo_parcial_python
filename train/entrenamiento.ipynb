{
 "cells": [
  {
   "cell_type": "markdown",
   "id": "0f41be01",
   "metadata": {},
   "source": [
    "# Entrenamiento del Modelo - Predicción de Consumo de Nafta\n",
    "\n",
    "En este notebook se entrena un modelo de Machine Learning para predecir el consumo de nafta (en litros) según distintas variables de uso del vehículo.\n",
    "\n",
    "## 1️⃣ Importacion \n"
   ]
  },
  {
   "cell_type": "code",
   "execution_count": 1,
   "id": "ad862923",
   "metadata": {},
   "outputs": [],
   "source": [
    "import pandas as pd\n",
    "from sklearn.model_selection import train_test_split\n",
    "from sklearn.linear_model import LinearRegression\n",
    "import joblib"
   ]
  },
  {
   "cell_type": "markdown",
   "id": "22879576",
   "metadata": {},
   "source": [
    "## 2️⃣ Carga y exploracion de los datos \n"
   ]
  },
  {
   "cell_type": "code",
   "execution_count": 2,
   "id": "65fbc5bd",
   "metadata": {},
   "outputs": [
    {
     "data": {
      "text/html": [
       "<div>\n",
       "<style scoped>\n",
       "    .dataframe tbody tr th:only-of-type {\n",
       "        vertical-align: middle;\n",
       "    }\n",
       "\n",
       "    .dataframe tbody tr th {\n",
       "        vertical-align: top;\n",
       "    }\n",
       "\n",
       "    .dataframe thead th {\n",
       "        text-align: right;\n",
       "    }\n",
       "</style>\n",
       "<table border=\"1\" class=\"dataframe\">\n",
       "  <thead>\n",
       "    <tr style=\"text-align: right;\">\n",
       "      <th></th>\n",
       "      <th>fecha</th>\n",
       "      <th>distancia_km</th>\n",
       "      <th>tiempo_min</th>\n",
       "      <th>trafico</th>\n",
       "      <th>auto_modelo</th>\n",
       "      <th>tipo_trayecto</th>\n",
       "      <th>precio_nafta_por_litro</th>\n",
       "      <th>consumo_por_km</th>\n",
       "      <th>combustible_litros</th>\n",
       "    </tr>\n",
       "  </thead>\n",
       "  <tbody>\n",
       "    <tr>\n",
       "      <th>0</th>\n",
       "      <td>2024-05-01</td>\n",
       "      <td>8.5</td>\n",
       "      <td>56</td>\n",
       "      <td>Pesado</td>\n",
       "      <td>Fiat Cronos 1.3</td>\n",
       "      <td>Ruta</td>\n",
       "      <td>885.48</td>\n",
       "      <td>0.084914</td>\n",
       "      <td>0.72</td>\n",
       "    </tr>\n",
       "    <tr>\n",
       "      <th>1</th>\n",
       "      <td>2024-05-02</td>\n",
       "      <td>8.5</td>\n",
       "      <td>21</td>\n",
       "      <td>Leve</td>\n",
       "      <td>VW Gol 1.6</td>\n",
       "      <td>Urbano</td>\n",
       "      <td>909.25</td>\n",
       "      <td>0.111755</td>\n",
       "      <td>0.95</td>\n",
       "    </tr>\n",
       "    <tr>\n",
       "      <th>2</th>\n",
       "      <td>2024-05-03</td>\n",
       "      <td>8.5</td>\n",
       "      <td>25</td>\n",
       "      <td>Moderado</td>\n",
       "      <td>Toyota Etios 1.5</td>\n",
       "      <td>Urbano</td>\n",
       "      <td>901.22</td>\n",
       "      <td>0.094540</td>\n",
       "      <td>0.80</td>\n",
       "    </tr>\n",
       "    <tr>\n",
       "      <th>3</th>\n",
       "      <td>2024-05-04</td>\n",
       "      <td>15.0</td>\n",
       "      <td>33</td>\n",
       "      <td>Moderado</td>\n",
       "      <td>VW Gol 1.6</td>\n",
       "      <td>Urbano</td>\n",
       "      <td>896.61</td>\n",
       "      <td>0.066963</td>\n",
       "      <td>1.00</td>\n",
       "    </tr>\n",
       "    <tr>\n",
       "      <th>4</th>\n",
       "      <td>2024-05-05</td>\n",
       "      <td>8.5</td>\n",
       "      <td>28</td>\n",
       "      <td>Moderado</td>\n",
       "      <td>Toyota Etios 1.5</td>\n",
       "      <td>Ruta</td>\n",
       "      <td>879.62</td>\n",
       "      <td>0.119419</td>\n",
       "      <td>1.02</td>\n",
       "    </tr>\n",
       "  </tbody>\n",
       "</table>\n",
       "</div>"
      ],
      "text/plain": [
       "        fecha  distancia_km  tiempo_min   trafico       auto_modelo  \\\n",
       "0  2024-05-01           8.5          56    Pesado   Fiat Cronos 1.3   \n",
       "1  2024-05-02           8.5          21      Leve        VW Gol 1.6   \n",
       "2  2024-05-03           8.5          25  Moderado  Toyota Etios 1.5   \n",
       "3  2024-05-04          15.0          33  Moderado        VW Gol 1.6   \n",
       "4  2024-05-05           8.5          28  Moderado  Toyota Etios 1.5   \n",
       "\n",
       "  tipo_trayecto  precio_nafta_por_litro  consumo_por_km  combustible_litros  \n",
       "0          Ruta                  885.48        0.084914                0.72  \n",
       "1        Urbano                  909.25        0.111755                0.95  \n",
       "2        Urbano                  901.22        0.094540                0.80  \n",
       "3        Urbano                  896.61        0.066963                1.00  \n",
       "4          Ruta                  879.62        0.119419                1.02  "
      ]
     },
     "execution_count": 2,
     "metadata": {},
     "output_type": "execute_result"
    }
   ],
   "source": [
    "\n",
    "df = pd.read_csv(\"./model/consumo_nafta.csv\")\n",
    "df.head(5)"
   ]
  },
  {
   "cell_type": "markdown",
   "id": "f90b2fe9",
   "metadata": {},
   "source": [
    "## 3️⃣ Selección de Variables"
   ]
  },
  {
   "cell_type": "code",
   "execution_count": 3,
   "id": "334445ea",
   "metadata": {},
   "outputs": [],
   "source": [
    "cat_columns = [\"trafico\", \"auto_modelo\", \"tipo_trayecto\"]\n",
    "df_encoded = pd.get_dummies(df, columns=cat_columns, drop_first=True)\n",
    "\n",
    "features = [\n",
    "    \"distancia_km\",\n",
    "    \"tiempo_min\",\n",
    "    \"precio_nafta_por_litro\",\n",
    "] + [ col for col in df_encoded.columns if col.startswith((\"trafico_\", \"auto_modelo_\", \"tipo_trayecto_\"))]\n",
    "\n",
    "target = \"combustible_litros\"\n",
    "\n",
    "X = df_encoded[features]\n",
    "y = df_encoded[target]\n"
   ]
  },
  {
   "cell_type": "markdown",
   "id": "50accfec",
   "metadata": {},
   "source": [
    "## 4️⃣ División en conjunto de entrenamiento y test"
   ]
  },
  {
   "cell_type": "code",
   "execution_count": 4,
   "id": "9c2d218c",
   "metadata": {},
   "outputs": [],
   "source": [
    "X_train, X_test, y_train, y_test = train_test_split(X, y, test_size=0.2, random_state= 42)\n"
   ]
  },
  {
   "cell_type": "markdown",
   "id": "5dd12114",
   "metadata": {},
   "source": [
    "## 5️⃣ Entrenamiento del Modelo"
   ]
  },
  {
   "cell_type": "code",
   "execution_count": 5,
   "id": "51707dab",
   "metadata": {},
   "outputs": [
    {
     "data": {
      "text/html": [
       "<style>#sk-container-id-1 {color: black;background-color: white;}#sk-container-id-1 pre{padding: 0;}#sk-container-id-1 div.sk-toggleable {background-color: white;}#sk-container-id-1 label.sk-toggleable__label {cursor: pointer;display: block;width: 100%;margin-bottom: 0;padding: 0.3em;box-sizing: border-box;text-align: center;}#sk-container-id-1 label.sk-toggleable__label-arrow:before {content: \"▸\";float: left;margin-right: 0.25em;color: #696969;}#sk-container-id-1 label.sk-toggleable__label-arrow:hover:before {color: black;}#sk-container-id-1 div.sk-estimator:hover label.sk-toggleable__label-arrow:before {color: black;}#sk-container-id-1 div.sk-toggleable__content {max-height: 0;max-width: 0;overflow: hidden;text-align: left;background-color: #f0f8ff;}#sk-container-id-1 div.sk-toggleable__content pre {margin: 0.2em;color: black;border-radius: 0.25em;background-color: #f0f8ff;}#sk-container-id-1 input.sk-toggleable__control:checked~div.sk-toggleable__content {max-height: 200px;max-width: 100%;overflow: auto;}#sk-container-id-1 input.sk-toggleable__control:checked~label.sk-toggleable__label-arrow:before {content: \"▾\";}#sk-container-id-1 div.sk-estimator input.sk-toggleable__control:checked~label.sk-toggleable__label {background-color: #d4ebff;}#sk-container-id-1 div.sk-label input.sk-toggleable__control:checked~label.sk-toggleable__label {background-color: #d4ebff;}#sk-container-id-1 input.sk-hidden--visually {border: 0;clip: rect(1px 1px 1px 1px);clip: rect(1px, 1px, 1px, 1px);height: 1px;margin: -1px;overflow: hidden;padding: 0;position: absolute;width: 1px;}#sk-container-id-1 div.sk-estimator {font-family: monospace;background-color: #f0f8ff;border: 1px dotted black;border-radius: 0.25em;box-sizing: border-box;margin-bottom: 0.5em;}#sk-container-id-1 div.sk-estimator:hover {background-color: #d4ebff;}#sk-container-id-1 div.sk-parallel-item::after {content: \"\";width: 100%;border-bottom: 1px solid gray;flex-grow: 1;}#sk-container-id-1 div.sk-label:hover label.sk-toggleable__label {background-color: #d4ebff;}#sk-container-id-1 div.sk-serial::before {content: \"\";position: absolute;border-left: 1px solid gray;box-sizing: border-box;top: 0;bottom: 0;left: 50%;z-index: 0;}#sk-container-id-1 div.sk-serial {display: flex;flex-direction: column;align-items: center;background-color: white;padding-right: 0.2em;padding-left: 0.2em;position: relative;}#sk-container-id-1 div.sk-item {position: relative;z-index: 1;}#sk-container-id-1 div.sk-parallel {display: flex;align-items: stretch;justify-content: center;background-color: white;position: relative;}#sk-container-id-1 div.sk-item::before, #sk-container-id-1 div.sk-parallel-item::before {content: \"\";position: absolute;border-left: 1px solid gray;box-sizing: border-box;top: 0;bottom: 0;left: 50%;z-index: -1;}#sk-container-id-1 div.sk-parallel-item {display: flex;flex-direction: column;z-index: 1;position: relative;background-color: white;}#sk-container-id-1 div.sk-parallel-item:first-child::after {align-self: flex-end;width: 50%;}#sk-container-id-1 div.sk-parallel-item:last-child::after {align-self: flex-start;width: 50%;}#sk-container-id-1 div.sk-parallel-item:only-child::after {width: 0;}#sk-container-id-1 div.sk-dashed-wrapped {border: 1px dashed gray;margin: 0 0.4em 0.5em 0.4em;box-sizing: border-box;padding-bottom: 0.4em;background-color: white;}#sk-container-id-1 div.sk-label label {font-family: monospace;font-weight: bold;display: inline-block;line-height: 1.2em;}#sk-container-id-1 div.sk-label-container {text-align: center;}#sk-container-id-1 div.sk-container {/* jupyter's `normalize.less` sets `[hidden] { display: none; }` but bootstrap.min.css set `[hidden] { display: none !important; }` so we also need the `!important` here to be able to override the default hidden behavior on the sphinx rendered scikit-learn.org. See: https://github.com/scikit-learn/scikit-learn/issues/21755 */display: inline-block !important;position: relative;}#sk-container-id-1 div.sk-text-repr-fallback {display: none;}</style><div id=\"sk-container-id-1\" class=\"sk-top-container\"><div class=\"sk-text-repr-fallback\"><pre>LinearRegression()</pre><b>In a Jupyter environment, please rerun this cell to show the HTML representation or trust the notebook. <br />On GitHub, the HTML representation is unable to render, please try loading this page with nbviewer.org.</b></div><div class=\"sk-container\" hidden><div class=\"sk-item\"><div class=\"sk-estimator sk-toggleable\"><input class=\"sk-toggleable__control sk-hidden--visually\" id=\"sk-estimator-id-1\" type=\"checkbox\" checked><label for=\"sk-estimator-id-1\" class=\"sk-toggleable__label sk-toggleable__label-arrow\">LinearRegression</label><div class=\"sk-toggleable__content\"><pre>LinearRegression()</pre></div></div></div></div></div>"
      ],
      "text/plain": [
       "LinearRegression()"
      ]
     },
     "execution_count": 5,
     "metadata": {},
     "output_type": "execute_result"
    }
   ],
   "source": [
    "model = LinearRegression()\n",
    "model.fit(X_train, y_train)"
   ]
  },
  {
   "cell_type": "markdown",
   "id": "66edf876",
   "metadata": {},
   "source": [
    "## 6️⃣ Evaluación del Modelo"
   ]
  },
  {
   "cell_type": "code",
   "execution_count": 6,
   "id": "84355305",
   "metadata": {},
   "outputs": [
    {
     "name": "stdout",
     "output_type": "stream",
     "text": [
      "Precisión del modelo (R^2): 0.65\n"
     ]
    }
   ],
   "source": [
    "score = model.score(X_test, y_test)\n",
    "print(f\"Precisión del modelo (R^2): {score:.2f}\")"
   ]
  },
  {
   "cell_type": "markdown",
   "id": "71fc84e7",
   "metadata": {},
   "source": [
    "## 7️⃣ Guardado del Modelo"
   ]
  },
  {
   "cell_type": "code",
   "execution_count": 9,
   "id": "7d2b93c4",
   "metadata": {},
   "outputs": [
    {
     "data": {
      "text/plain": [
       "['./model/metrics.pkl']"
      ]
     },
     "execution_count": 9,
     "metadata": {},
     "output_type": "execute_result"
    }
   ],
   "source": [
    "joblib.dump(model, \"./model/modelo_consumo_nafta.pkl\")\n",
    "joblib.dump(features, './model/features.pkl')\n",
    "joblib.dump(model.score(X_test, y_test), './model/metrics.pkl')"
   ]
  }
 ],
 "metadata": {
  "kernelspec": {
   "display_name": "Python 3",
   "language": "python",
   "name": "python3"
  },
  "language_info": {
   "codemirror_mode": {
    "name": "ipython",
    "version": 3
   },
   "file_extension": ".py",
   "mimetype": "text/x-python",
   "name": "python",
   "nbconvert_exporter": "python",
   "pygments_lexer": "ipython3",
   "version": "3.11.9"
  }
 },
 "nbformat": 4,
 "nbformat_minor": 5
}
